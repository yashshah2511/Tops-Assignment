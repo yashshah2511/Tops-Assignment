{
 "cells": [
  {
   "cell_type": "code",
   "execution_count": 18,
   "id": "102a3655",
   "metadata": {},
   "outputs": [],
   "source": [
    "import statistics\n",
    "import matplotlib.pyplot as plt\n",
    "from scipy.stats import skew, kurtosis\n",
    "import numpy as np\n",
    "from scipy.stats import norm\n",
    "from scipy.stats import t\n",
    "from scipy import stats\n"
   ]
  },
  {
   "cell_type": "code",
   "execution_count": 19,
   "id": "a04f8bd7",
   "metadata": {},
   "outputs": [
    {
     "name": "stdout",
     "output_type": "stream",
     "text": [
      "Mean rental duration: 3.44\n",
      "Median rental duration: 3.0\n",
      "Mode rental duration: 2\n"
     ]
    }
   ],
   "source": [
    "\n",
    "\n",
    "\n",
    "# 1. Business Problem: A car rental company wants to analyze the rental durations of itscustomers to understand the typical rental period and optimize its pricing andfleet\n",
    "# management strategies. Data: Let's consider the rental durations (in days) for asample of 50 customers:\n",
    "# 3, 2, 5, 4, 7, 2, 3, 3, 1, 6, 4, 2, 3, 5, 2, 4, 2, 1, 3, 5, 6, 3, 2, 1, 4, 2, 4, 5, 3, 2, 7, 2, 3, 4, 5, 1, 6, 2, 4, 3, 5, 3, 2, 4, 2, 6, 3, 2, 4, 5\n",
    "# Question:\n",
    "# a. Mean: What is the average rental duration for customers at the car rental\n",
    "# company?\n",
    "# b. Median: What is the typical or central rental duration experiencedbycustomers?\n",
    "# c. Mode: Are there any recurring or most frequently occurring rental\n",
    "# durations for customers?\n",
    "# By answering these questions using the mean, median, and mode, thecar\n",
    "# rental company can gain insights into the average rental duration, understand \n",
    "# the most common rental periods, and make informed decisionsregarding pricing, fleet \n",
    "# size, and availability. Additionally, this analysiscan help the company optimize resource allocation, \n",
    "# plan for peak demandperiods, and enhance customer satisfaction by aligning service offeringswith customers' \n",
    "# typical rental needs.\n",
    "\n",
    "\n",
    "# Rental durations in days for 50 customers\n",
    "rental_durations = [3, 2, 5, 4, 7, 2, 3, 3, 1, 6, \n",
    "                    4, 2, 3, 5, 2, 4, 2, 1, 3, 5, \n",
    "                    6, 3, 2, 1, 4, 2, 4, 5, 3, 2, \n",
    "                    7, 2, 3, 4, 5, 1, 6, 2, 4, 3, \n",
    "                    5, 3, 2, 4, 2, 6, 3, 2, 4, 5]\n",
    "\n",
    "# a.\n",
    "mean_duration = statistics.mean(rental_durations)\n",
    "print(\"Mean rental duration:\", mean_duration)\n",
    "\n",
    "# b.\n",
    "median_duration = statistics.median(rental_durations)\n",
    "print(\"Median rental duration:\", median_duration)\n",
    "\n",
    "# c.\n",
    "mode_duration = statistics.mode(rental_durations)\n",
    "print(\"Mode rental duration:\", mode_duration)\n",
    "\n"
   ]
  },
  {
   "cell_type": "code",
   "execution_count": 20,
   "id": "4faec01f",
   "metadata": {},
   "outputs": [
    {
     "name": "stdout",
     "output_type": "stream",
     "text": [
      "7\n",
      "1\n",
      "Range of delivery times: 6\n",
      "Variance of delivery times: 2.336326530612245\n",
      "Standard Deviation of delivery times: 1.528504671439458\n"
     ]
    }
   ],
   "source": [
    "# 2. An e-commerce platform wants to analyze the delivery times of its shipments tounderstand the variability in order fulfillment and optimize its logistics operations. Data:\n",
    "# Let's consider the delivery times (in days) for a sample of 50 shipments:\n",
    "# 3, 5, 2, 4, 6, 2, 3, 4, 2, 5, 7, 2, 3, 4, 2, 4, 2, 3, 5, 6, 3, 2, 1, 4, 2, 4, 5, 3, 2, 7, 2, 3, 4, 5, 1, 6, 2, 4, 3, 5, 3, 2, 4, 2, 6, 3, 2, 4, 5, 3\n",
    "# Questions:\n",
    "# a. Range: What is the range of the delivery times?\n",
    "# b. Variance: What is the variance of the delivery times?\n",
    "# c. Standard Deviation: What is the standard deviation of the deliverytimes?By answering these questions using different \n",
    "# measures of dispersion, the e- commerce platform can gain insights into the variability in delivery times, identify \n",
    "# any bottlenecks in the logistics process, and make informed decisionsregarding shipment tracking,customer expectations,\n",
    "# and service level agreements. \n",
    "\n",
    "# Delivery times (in days) for 50 shipments\n",
    "delivery_times = [3, 5, 2, 4, 6, 2, 3, 4, 2, 5, \n",
    "                  7, 2, 3, 4, 2, 4, 2, 3, 5, 6, \n",
    "                  3, 2, 1, 4, 2, 4, 5, 3, 2, 7, \n",
    "                  2, 3, 4, 5, 1, 6, 2, 4, 3, 5, \n",
    "                  3, 2, 4, 2, 6, 3, 2, 4, 5, 3]\n",
    "\n",
    "# a.\n",
    "print( max(delivery_times))\n",
    "print(min(delivery_times))\n",
    "range_delivery = max(delivery_times) - min(delivery_times)\n",
    "print(\"Range of delivery times:\", range_delivery)\n",
    "\n",
    "# b.\n",
    "variance_delivery = statistics.variance(delivery_times)\n",
    "print(\"Variance of delivery times:\", variance_delivery)\n",
    "\n",
    "# c.\n",
    "std_deviation_delivery = statistics.stdev(delivery_times)\n",
    "print(\"Standard Deviation of delivery times:\", std_deviation_delivery)\n"
   ]
  },
  {
   "cell_type": "code",
   "execution_count": 21,
   "id": "3edead15",
   "metadata": {},
   "outputs": [
    {
     "name": "stdout",
     "output_type": "stream",
     "text": [
      "Average monthly revenue : 132.5\n",
      "Range of monthly revenue : 45\n"
     ]
    }
   ],
   "source": [
    "# 3. A company wants to analyze the monthly revenue generated by one of its productsto understand its performance and variability. Data: Let's consider the monthly revenue (in thousands of dollars) for the past 12months:\n",
    "# $120, $150, $110, $135, $125, $140, $130, $155, $115, $145, $135, $130Questions:\n",
    "# a. Measure of Central Tendency: What is the average monthly revenuefor\n",
    "# the product?\n",
    "# b. Measure of Dispersion: What is the range of monthly revenue for theproduct?\n",
    "# By answering these questions, the company can gain insights into the averagerevenue generated by the product and \n",
    "# understand the range or variabilityinitsmonthly revenue, which can help with financial planning, forecasting, \n",
    "# andevaluating the product's performance.\n",
    "\n",
    "# Monthly revenue in thousands of dollars for 12 months\n",
    "monthly_revenue = [120, 150, 110, 135, 125, 140, \n",
    "                   130, 155, 115, 145, 135, 130]\n",
    "\n",
    "# a.\n",
    "mean_revenue = statistics.mean(monthly_revenue)\n",
    "print(\"Average monthly revenue :\", mean_revenue)\n",
    "\n",
    "# b.\n",
    "range_revenue = max(monthly_revenue) - min(monthly_revenue)\n",
    "print(\"Range of monthly revenue :\", range_revenue)\n",
    "\n",
    "\n"
   ]
  },
  {
   "cell_type": "code",
   "execution_count": 22,
   "id": "425a9390",
   "metadata": {},
   "outputs": [
    {
     "name": "stdout",
     "output_type": "stream",
     "text": [
      "a. Average \n",
      "   Model A: 30.6 mpg\n",
      "   Model B: 25.9 mpg\n",
      "   Model C: 22.9 mpg\n",
      "   Model D: 18.8 mpg\n",
      "   Model E: 34.2 mpg\n",
      "\n",
      "b. Range \n",
      "   Model A: 5 mpg\n",
      "   Model B: 5 mpg\n",
      "   Model C: 5 mpg\n",
      "   Model D: 4 mpg\n",
      "   Model E: 4 mpg\n",
      "\n",
      "c. Variance \n",
      "   Model A: 2.2666666666666666\n",
      "   Model B: 2.7666666666666666\n",
      "   Model C: 2.7666666666666666\n",
      "   Model D: 1.7333333333333334\n",
      "   Model E: 1.7333333333333334\n"
     ]
    }
   ],
   "source": [
    "# 4. A transportation company wants to analyze the fuel efficiency of its vehicle fleet toidentify any variations across different vehicle models. Data: Let's consider the fuel efficiency (in miles per gallon, mpg) for a sampleof50 vehicles:\n",
    "# Model A: 30, 32, 33, 28, 31, 30, 29, 30, 32, 31, Model B: 25, 27, 26, 23, 28, 24, 26, 25, 27, 28, Model C: 22, 23, 20, 25, 21, 24, 23, 22, 25, 24, Model D: 18, 17, 19, 20, 21, 18, 19, 17, 20, 19, Model E: 35, 36, 34, 35, 33, 34, 32, 33, 36, 34\n",
    "# Questions:\n",
    "# a. Measure of Central Tendency: What is the average fuel efficiencyfor eachvehicle model?\n",
    "# b. Measure of Dispersion: What is the range of fuel efficiency for eachvehicle model?\n",
    "# c. Measure of Dispersion: What is the variance of the fuel efficiencyfor eachvehicle model?\n",
    "# By answering thesequestions, the transportation company can gaininsights into the average fuel efficiency of different vehicle models, understand the variations or spread in the fuel efficiency, and make\n",
    "# informed decisions regarding fleet management, vehicle selection, andfuel\n",
    "# consumption optimization.\n",
    "\n",
    "# Fuel efficiency (mpg) for each model\n",
    "model_data = {\n",
    "    \"Model A\": [30, 32, 33, 28, 31, 30, 29, 30, 32, 31],\n",
    "    \"Model B\": [25, 27, 26, 23, 28, 24, 26, 25, 27, 28],\n",
    "    \"Model C\": [22, 23, 20, 25, 21, 24, 23, 22, 25, 24],\n",
    "    \"Model D\": [18, 17, 19, 20, 21, 18, 19, 17, 20, 19],\n",
    "    \"Model E\": [35, 36, 34, 35, 33, 34, 32, 33, 36, 34]\n",
    "}\n",
    "\n",
    "# a.\n",
    "print(\"a. Average \")\n",
    "for model, mpg in model_data.items():\n",
    "    print(f\"   {model}: {statistics.mean(mpg)} mpg\")\n",
    "\n",
    "# b.\n",
    "print(\"\\nb. Range \")\n",
    "for model, mpg in model_data.items():\n",
    "    print(f\"   {model}: {max(mpg) - min(mpg)} mpg\")\n",
    "    \n",
    "# c.\n",
    "print(\"\\nc. Variance \")\n",
    "for model, mpg in model_data.items():\n",
    "    print(f\"   {model}: {statistics.variance(mpg)}\")"
   ]
  },
  {
   "cell_type": "code",
   "execution_count": 23,
   "id": "a75155f5",
   "metadata": {},
   "outputs": [
    {
     "data": {
      "image/png": "[encoded data removed]",
      "text/plain": [
       "<Figure size 640x480 with 1 Axes>"
      ]
     },
     "metadata": {},
     "output_type": "display_data"
    },
    {
     "name": "stdout",
     "output_type": "stream",
     "text": [
      "Most Common Defect Type: E with frequency 45\n"
     ]
    },
    {
     "data": {
      "image/png": "[encoded data removed]",
      "text/plain": [
       "<Figure size 640x480 with 1 Axes>"
      ]
     },
     "metadata": {},
     "output_type": "display_data"
    }
   ],
   "source": [
    "# 5. A manufacturing company wants to analyze the defect rates of its productionlinetoidentify the frequency of different types of defects. Data: Let's consider the types of defects and their corresponding frequencies\n",
    "# observed in a sample of 200 products:\n",
    "# Defect Type: A, B, C, D, E, F, G\n",
    "# Frequency: 30, 40, 20, 10, 45, 25, 30\n",
    "# Questions:\n",
    "# a. Bar Chart: Create a bar chart to visualize the frequency of different defect\n",
    "# types.\n",
    "# b. Most Common Defect: Which defect type has the highest frequency?\n",
    "# c. Histogram: Create a histogram to represent the defect frequencies. By answering these questions using a bar chart and histogram, the manufacturingcompany can visually understand the distribution of defect types, identifythemost common defect, and prioritize quality control efforts to address the prevalent\n",
    "# issues\n",
    "\n",
    "\n",
    "# Defect types and their frequencies\n",
    "defects = [\"A\", \"B\", \"C\", \"D\", \"E\", \"F\", \"G\"]\n",
    "frequencies = [30, 40, 20, 10, 45, 25, 30]\n",
    "\n",
    "# a.\n",
    "plt.bar(defects, frequencies, color=\"skyblue\", edgecolor=\"black\")\n",
    "plt.title(\"Frequency of Different Defect Types\")\n",
    "plt.xlabel(\"Defect Type\")\n",
    "plt.ylabel(\"Frequency\")\n",
    "plt.show()\n",
    "\n",
    "# b.\n",
    "max_freq = max(frequencies)\n",
    "most_common_defect = defects[frequencies.index(max_freq)]\n",
    "print(\"Most Common Defect Type:\", most_common_defect, \"with frequency\", max_freq)\n",
    "\n",
    "\n",
    "# c.\n",
    "plt.hist(frequencies, bins=5, color=\"lightgreen\", edgecolor=\"black\")\n",
    "plt.title(\"Histogram of Defect Frequencies\")\n",
    "plt.xlabel(\"Frequency Range\")\n",
    "plt.ylabel(\"Count of Defect Types\")\n",
    "plt.show()\n",
    "\n",
    "\n"
   ]
  },
  {
   "cell_type": "code",
   "execution_count": 24,
   "id": "58a61f07",
   "metadata": {},
   "outputs": [
    {
     "name": "stdout",
     "output_type": "stream",
     "text": [
      "Skewness: -0.20773281879682218\n",
      "Kurtosis: -0.767917404014467\n",
      "\n",
      "c. Interpretation:\n",
      "   The distribution is negatively skewed (more high ratings, long left tail) \n",
      "  platykurtic (flatter distribution).\n"
     ]
    }
   ],
   "source": [
    "# 6. A survey was conducted to analyze the satisfaction ratings of customers onascaleof 1 to 5 for a specific product. Data: Let's consider the satisfaction ratings from 200 customers:\n",
    "# Ratings:\n",
    "# 4, 5, 3, 4, 4, 3, 2, 5, 4, 3, 5, 4, 2, 3, 4, 5, 3, 4, 5, 3, 4, 3, 2, 4, 5, 3, 4, 5, 4, 3, 3, 4, 5, 2, 3, 4, 4, 3, 5, 4, 3, 4, 5, 4, 2, 3, 4, 5, 3, 4, 5, 4, 3, 4, 5, 3, 4, 5, 4, 3, 3, 4, 5, 2, 3, 4, 4, 3, 5, 4, 3, 4, 5, 4, 2, 3, 4, 5, 3, 4, 5, 4, 3, 4, 5, 3, 4, 5, 4, 3, 3, 4, 5, 2, 3, 4, 4, 3, 5, 4\n",
    "# Questions:\n",
    "# a. Skewness: Calculate the skewness of the satisfaction ratings. \n",
    "# b. Kurtosis: Calculate the kurtosis of the satisfaction ratings. \n",
    "# c. Interpretation: Based on the skewness and kurtosis values, what canbeinferred about the satisfaction ratings distribution?\n",
    "# By answering these questions using measures of skewness and kurtosis, thesurvey can assess the skewness and peakedness of the satisfaction ratings, determine if the ratings are skewed towards positive or negative evaluations, andunderstand the distribution characteristics of customer satisfaction.\n",
    "\n",
    "\n",
    "ratings = [\n",
    "    4, 5, 3, 4, 4, 3, 2, 5, 4, 3, 5, 4, 2, 3, 4, 5, 3, 4, 5, 3,\n",
    "    4, 3, 2, 4, 5, 3, 4, 5, 4, 3, 3, 4, 5, 2, 3, 4, 4, 3, 5, 4,\n",
    "    3, 4, 5, 4, 2, 3, 4, 5, 3, 4, 5, 4, 3, 4, 5, 3, 4, 5, 4, 3,\n",
    "    3, 4, 5, 2, 3, 4, 4, 3, 5, 4, 3, 4, 5, 4, 2, 3, 4, 5, 3, 4,\n",
    "    5, 4, 3, 4, 5, 3, 4, 5, 4, 3, 3, 4, 5, 2, 3, 4, 4, 3, 5, 4\n",
    "]\n",
    "\n",
    "# a.\n",
    "skewness_value = skew(ratings)\n",
    "print(\"Skewness:\", skewness_value)\n",
    "\n",
    "# b.\n",
    "kurtosis_value = kurtosis(ratings)\n",
    "print(\"Kurtosis:\", kurtosis_value)\n",
    "\n",
    "# c.\n",
    "# c. Interpretation\n",
    "if skewness_value > 0:\n",
    "    skewness_interpret = \"positively skewed (more low ratings, long right tail)\"\n",
    "elif skewness_value < 0:\n",
    "    skewness_interpret = \"negatively skewed (more high ratings, long left tail)\"\n",
    "else:\n",
    "    skewness_interpret = \"symmetric distribution\"\n",
    "\n",
    "if kurtosis_value > 0:\n",
    "    kurtosis_interpret = \"leptokurtic (sharper peak, heavier tails)\"\n",
    "elif kurtosis_value < 0:\n",
    "    kurtosis_interpret = \"platykurtic (flatter distribution)\"\n",
    "else:\n",
    "    kurtosis_interpret = \"mesokurtic (similar to normal distribution)\"\n",
    "\n",
    "print(\"\\nc. Interpretation:\")\n",
    "print(f\"   The distribution is {skewness_interpret} \\n  {kurtosis_interpret}.\")\n",
    "\n",
    "\n"
   ]
  },
  {
   "cell_type": "code",
   "execution_count": 25,
   "id": "205bf2de",
   "metadata": {},
   "outputs": [
    {
     "name": "stdout",
     "output_type": "stream",
     "text": [
      "a. Quartiles:\n",
      "   Q1 (25th percentile): 143.75\n",
      "   Q2 (Median, 50th percentile): 267.5\n",
      "   Q3 (75th percentile): 391.25\n",
      "\n",
      "b. Percentiles:\n",
      "   15th percentile: 94.55\n",
      "   50th percentile: 267.5\n",
      "   85th percentile: 440.74999999999994\n",
      "\n",
      "c. Interpretation:\n",
      "   - 25% of individuals weigh less than 143.8 kg.\n",
      "   - 50% of individuals weigh less than 267.5 kg.\n",
      "   - 75% of individuals weigh less than 391.2 kg.\n",
      "   - 15% of individuals weigh less than 94.5 kg (lighter group).\n",
      "   - 85% of individuals weigh less than 440.7 kg (heavier group).\n"
     ]
    }
   ],
   "source": [
    "# 7. A research study wants to analyze the weight distribution of a sample of\n",
    "# individuals to assess their health and body composition. Data: Let's consider the weights (in kilograms) of a sample of 100 individuals:\n",
    "# Weights:\n",
    "# 55, 60, 62, 65, 68, 70, 72, 75, 78, 80, 82, 85, 88, 90, 92, 95, 100, 105, 110, 115, 120, 125, 130, 135, 140, 145, 150, 155, 160, 165, 170, 175, 180, 185, 190, 195, 200, 205, 210, 215, 220, 225, 230, 235, 240, 245, 250, 255, 260, 265, 270, 275, 280, 285, 290, 295, 300, 305, 310, 315, 320, 325, 330, 335, 340, 345, 350, 355, 360, 365, 370, 375, 380, 385, 390, 395, 400, 405, 410, 415, 420, 425, 430, 435, 440, 445, 450, 455, 460, 465, 470, 475, 480, 485, 490, 495, 500, 505, 510, 515Questions:\n",
    "# a. Quartiles: Calculate the first quartile (Q1), median (Q2), and thirdquartile(Q3) of the weight distribution. \n",
    "# b. Percentiles: Calculate the 15th percentile, 50th percentile, and 85thpercentile of the weight distribution. \n",
    "# c. Interpretation: Based on the quartiles and percentiles, what can be inferredabout the weight distribution of the individuals?\n",
    "# By answering these questions using quartiles and percentiles, the researchstudycan understand the weight distribution and identify the weight ranges at different\n",
    "# percentiles, such as underweight, normal weight, overweight, and obese\n",
    "# categories. This information\n",
    "\n",
    "weights = [\n",
    "    55, 60, 62, 65, 68, 70, 72, 75, 78, 80, 82, 85, 88, 90, 92, 95, 100, 105, 110, 115,\n",
    "    120, 125, 130, 135, 140, 145, 150, 155, 160, 165, 170, 175, 180, 185, 190, 195, 200,\n",
    "    205, 210, 215, 220, 225, 230, 235, 240, 245, 250, 255, 260, 265, 270, 275, 280, 285,\n",
    "    290, 295, 300, 305, 310, 315, 320, 325, 330, 335, 340, 345, 350, 355, 360, 365, 370,\n",
    "    375, 380, 385, 390, 395, 400, 405, 410, 415, 420, 425, 430, 435, 440, 445, 450, 455,\n",
    "    460, 465, 470, 475, 480, 485, 490, 495, 500, 505, 510, 515\n",
    "]\n",
    "\n",
    "# a. Quartiles\n",
    "Q1 = np.percentile(weights, 25)\n",
    "Q2 = np.percentile(weights, 50)  \n",
    "Q3 = np.percentile(weights, 75)\n",
    "\n",
    "# Print results\n",
    "print(\"a. Quartiles:\")\n",
    "print(\"   Q1 (25th percentile):\", Q1)\n",
    "print(\"   Q2 (Median, 50th percentile):\", Q2)\n",
    "print(\"   Q3 (75th percentile):\", Q3)\n",
    "\n",
    "\n",
    "# b. Percentiles\n",
    "P15 = np.percentile(weights, 15)\n",
    "P50 = np.percentile(weights, 50)  \n",
    "P85 = np.percentile(weights, 85)\n",
    "\n",
    "print(\"\\nb. Percentiles:\")\n",
    "print(\"   15th percentile:\", P15)\n",
    "print(\"   50th percentile:\", P50)\n",
    "print(\"   85th percentile:\", P85)\n",
    "\n",
    "\n",
    "# c. Interpretation\n",
    "print(\"\\nc. Interpretation:\")\n",
    "print(f\"   - 25% of individuals weigh less than {Q1:.1f} kg.\")\n",
    "print(f\"   - 50% of individuals weigh less than {Q2:.1f} kg.\")\n",
    "print(f\"   - 75% of individuals weigh less than {Q3:.1f} kg.\")\n",
    "print(f\"   - 15% of individuals weigh less than {P15:.1f} kg (lighter group).\")\n",
    "print(f\"   - 85% of individuals weigh less than {P85:.1f} kg (heavier group).\")\n",
    "\n",
    "\n"
   ]
  },
  {
   "cell_type": "code",
   "execution_count": 26,
   "id": "efb47b52",
   "metadata": {},
   "outputs": [
    {
     "name": "stdout",
     "output_type": "stream",
     "text": [
      "Correlation Coefficient: 0.9772950830186736\n"
     ]
    },
    {
     "data": {
      "image/png": "[encoded data removed]",
      "text/plain": [
       "<Figure size 640x480 with 1 Axes>"
      ]
     },
     "metadata": {},
     "output_type": "display_data"
    }
   ],
   "source": [
    "# 8. A researcher wants to examine the relationship between the hours spent studyingand the exam scores of a group of students. Data: Let's consider the number of hours spent studying and the correspondingexam scores for a sample of 30 students:\n",
    "# Hours Spent Studying: 10, 12, 15, 18, 20, 22, 25, 28, 30, 32, 35, 38, 40, 42, 45, 48, 50, 52, 55, 58, 60, 62, 65, 68, 70, 72, 75, 78, 80, 82 Exam Scores: 60, 65, 70, 75, 80, 82, 85, 88, 90, 92, 93, 95, 96, 97, 98, 99, 100, 102, 105, 106, 107, 108, 110, 112, 114, 115, 116, 118, 120, 122\n",
    "# Question:\n",
    "# Calculate the correlation coefficient between the hours spent studying andtheexam scores. Interpret the value of the correlation coefficient and explainthenature of the relationship between studying hours and examscores. By analyzing the correlation coefficient, the researcher can determine the strengthanddirection of the relationship between studying hours and exam scores. This information can provide insights into the effectiveness of studying and help students and educatorsmake informed decisions about study habits and academic performance.\n",
    "\n",
    "import numpy as np\n",
    "import matplotlib.pyplot as plt\n",
    "\n",
    "# Data\n",
    "hours_studying = np.array([10, 12, 15, 18, 20, 22, 25, 28, 30, 32, \n",
    "                           35, 38, 40, 42, 45, 48, 50, 52, 55, 58, \n",
    "                           60, 62, 65, 68, 70, 72, 75, 78, 80, 82])\n",
    "\n",
    "exam_scores = np.array([60, 65, 70, 75, 80, 82, 85, 88, 90, 92, \n",
    "                        93, 95, 96, 97, 98, 99, 100, 102, 105, 106, \n",
    "                        107, 108, 110, 112, 114, 115, 116, 118, 120, 122])\n",
    "\n",
    "# Calculate correlation coefficient\n",
    "correlation_matrix = np.corrcoef(hours_studying, exam_scores)\n",
    "correlation_coefficient = correlation_matrix[0, 1]\n",
    "\n",
    "print(\"Correlation Coefficient:\", correlation_coefficient)\n",
    "\n",
    "# Plot scatter plot\n",
    "plt.scatter(hours_studying, exam_scores, color='blue', label=\"Data Points\")\n",
    "\n",
    "# Fit regression line\n",
    "m, b = np.polyfit(hours_studying, exam_scores, 1)\n",
    "plt.plot(hours_studying, m*hours_studying + b, color='red', label=\"Regression Line\")\n",
    "\n",
    "plt.xlabel(\"Hours Spent Studying\")\n",
    "plt.ylabel(\"Exam Scores\")\n",
    "plt.title(\"Relationship between Hours Studying and Exam Scores\")\n",
    "plt.legend()\n",
    "plt.show()\n"
   ]
  },
  {
   "cell_type": "code",
   "execution_count": 27,
   "id": "6a98597d",
   "metadata": {},
   "outputs": [
    {
     "name": "stdout",
     "output_type": "stream",
     "text": [
      "0.000415802001953125\n"
     ]
    }
   ],
   "source": [
    "# 9. A multiple-choice test consists of 10 questions, each with four possible answers. If astudent randomly guesses on each question, what is the probability of gettingat least\n",
    "# 8 questions correct? Data: Number of questions (n) = 10, Number of possible\n",
    "# answers per question (k) = 4\n",
    "\n",
    "import math\n",
    "\n",
    "n = 10\n",
    "p = 1/4\n",
    "prob = 0\n",
    "\n",
    "for k in range(8, 11):   # 8, 9, 10\n",
    "    prob += math.comb(n, k) * (p**k) * ((1-p)**(n-k))\n",
    "\n",
    "print(prob)\n"
   ]
  },
  {
   "cell_type": "code",
   "execution_count": 28,
   "id": "abd5c4e0",
   "metadata": {},
   "outputs": [
    {
     "name": "stdout",
     "output_type": "stream",
     "text": [
      "0.6826894921370859\n"
     ]
    }
   ],
   "source": [
    "# 10. The lifetimes of a certain brand of light bulbs are normally distributed witha meanof 1000 hours and a standard deviation of 100 hours. What is the probabilitythat arandomly selected light bulb lasts between 900 and 1100 hours? Data: Meanlifetime(μ) = 1000 hours, Standard deviation (σ) = 100 hours, Lifetime range (lower limit x1, upper limit x2)\n",
    "mu, sigma = 1000, 100\n",
    "x1, x2 = 900, 1100\n",
    "\n",
    "p = norm.cdf(x2, loc=mu, scale=sigma) - norm.cdf(x1, loc=mu, scale=sigma)\n",
    "print(p)"
   ]
  },
  {
   "cell_type": "code",
   "execution_count": 29,
   "id": "ff8c420c",
   "metadata": {},
   "outputs": [
    {
     "name": "stdout",
     "output_type": "stream",
     "text": [
      "t critical: 1.9842169515086827\n",
      "95% CI: (168.4126, 171.5874)\n"
     ]
    }
   ],
   "source": [
    "# 11. A study is conducted to estimate the mean height of a population. Arandomsampleof 100 individuals is selected, and their heights are measured. Calculate a 95%confidence interval for the population mean height, given that the sample meanheight is 170 cm and the sample standard deviation is 8 cm. Data: Sample size(n) =100, Sample mean (x̄) = 170 cm, Sample standard deviation (s) = 8 cm, Confidencelevel = 95%\n",
    "\n",
    "n = 100\n",
    "xbar = 170.0\n",
    "s = 8.0\n",
    "df = n - 1\n",
    "\n",
    "# t critical value for 95% CI (two-sided)\n",
    "t_crit = t.ppf(0.975, df)\n",
    "\n",
    "se = s / math.sqrt(n)   # standard error\n",
    "margin = t_crit * se\n",
    "\n",
    "ci_lower = xbar - margin\n",
    "ci_upper = xbar + margin\n",
    "\n",
    "print(\"t critical:\", t_crit)\n",
    "print(\"95% CI: ({:.4f}, {:.4f})\".format(ci_lower, ci_upper))"
   ]
  },
  {
   "cell_type": "code",
   "execution_count": 30,
   "id": "2880902e",
   "metadata": {},
   "outputs": [
    {
     "name": "stdout",
     "output_type": "stream",
     "text": [
      "t-statistic: 2.5\n",
      "p-value: 0.019654175116578753\n",
      "critical t (two-sided, alpha=0.05): ± 2.0639\n",
      "95% CI for mean: (501.7444057534879, 518.255594246512)\n"
     ]
    }
   ],
   "source": [
    "# 12. A manufacturing company claims that the average weight of its product is 500grams. To test this claim, a random sample of 25 products is selected, and their\n",
    "# weights are measured. The sample mean weight is found to be 510 grams withasample standard deviation of 20 grams. Perform a hypothesis test to determineif\n",
    "# there is evidence to support the company's claim. Data: Sample size (n) =25, Sample mean (x̄) = 510 grams, Sample standard deviation (s) = 20 grams, Population mean (μ) = 500 grams\n",
    "# Explanation: In this problem, we are conducting a hypothesis test to assess\n",
    "# whether the sample mean weight provides evidence to support the company's\n",
    "# claim about the population mean weight. The null hypothesis (H0) assumes that\n",
    "# the population mean weight is equal to the claimed value, while the alternativehypothesis (Ha) suggests otherwise.\n",
    "\n",
    "n = 25\n",
    "xbar = 510.0\n",
    "s = 20.0\n",
    "mu0 = 500.0\n",
    "alpha = 0.05\n",
    "\n",
    "se = s / math.sqrt(n)\n",
    "t_stat = (xbar - mu0) / se\n",
    "df = n - 1\n",
    "\n",
    "p_value = 2 * t.sf(abs(t_stat), df)\n",
    "t_crit = t.ppf(1 - alpha/2, df)\n",
    "margin = t_crit * se\n",
    "ci_lower = xbar - margin\n",
    "ci_upper = xbar + margin\n",
    "\n",
    "print(\"t-statistic:\", t_stat)\n",
    "print(\"p-value:\", p_value)\n",
    "print(\"critical t (two-sided, alpha=0.05): ±\", round(t_crit, 4))\n",
    "print(\"95% CI for mean:\", (ci_lower, ci_upper))"
   ]
  },
  {
   "cell_type": "code",
   "execution_count": null,
   "id": "466e915c",
   "metadata": {},
   "outputs": [
    {
     "name": "stdout",
     "output_type": "stream",
     "text": [
      "T-statistic: 15.973099916691714\n",
      "P-value: 7.677588688329936e-21\n",
      "Reject H0: There is a significant difference between the two teaching methods.\n"
     ]
    }
   ],
   "source": [
    "# 13.A researcher wants to test whether a new teaching method improves student\n",
    "# performance. A random sample of 50 students is divided into two groups: onegrouptaught using the new method and the other using the traditional method. The averagetest scores of the two groups are compared. State the null and alternative hypothesesfor this study. Data: Sample size (n) = 50, Test scores of the two groups\n",
    "# Explanation: In this problem, we are interested in comparing the means of twogroups (new method vs. traditional method). The null hypothesis (H0) states that\n",
    "# there is no significant difference between the means, while the alternative\n",
    "# hypothesis (Ha) suggests that there is a significant difference\n",
    "\n",
    "\n",
    "new_method_scores = np.array([78, 85, 90, 88, 92, 80, 84, 89, 91, 87,\n",
    "                              83, 86, 88, 90, 85, 89, 92, 84, 86, 88,\n",
    "                              90, 91, 85, 87, 89])\n",
    "\n",
    "# Scores of students taught using the traditional method\n",
    "traditional_scores = np.array([70, 72, 75, 74, 78, 73, 71, 76, 74, 72,\n",
    "                               75, 77, 74, 73, 76, 72, 74, 75, 73, 71,\n",
    "                               76, 77, 74, 75, 72])\n",
    "\n",
    "\n",
    "# Perform independent t-test\n",
    "t_statistic, p_value = stats.ttest_ind(new_method_scores, traditional_scores)\n",
    "\n",
    "print(\"T-statistic:\", t_statistic)\n",
    "print(\"P-value:\", p_value)\n",
    "\n",
    "# Interpretation\n",
    "alpha = 0.05\n",
    "if p_value < alpha:\n",
    "    print(\"Reject H0: There is a significant difference between the two teaching methods.\")\n",
    "else:\n",
    "    print(\"Fail to reject H0: No significant difference between the two teaching methods.\")\n"
   ]
  },
  {
   "cell_type": "code",
   "execution_count": 32,
   "id": "247e0cdc",
   "metadata": {},
   "outputs": [
    {
     "name": "stdout",
     "output_type": "stream",
     "text": [
      "Sample proportion: 0.64\n",
      "90% CI: (0.604688, 0.675312)\n",
      "As percentages: (60.47%, 67.53%)\n"
     ]
    }
   ],
   "source": [
    "# 14. A survey is conducted to estimate the proportion of people in a city who support aparticular policy. A random sample of 500 individuals is surveyed, and 320of themexpress support for the policy. Calculate a 90% confidence interval for the\n",
    "# population proportion, given the sample proportion. Data: Sample size (n) =500, Number of successes (x) = 320, Confidence level = 90%\n",
    "# Explanation: In this problem, we aim to estimate the population proportionbasedon the sample proportion. By constructing a confidence interval, we providearange of plausible values for the population proportion. The 90%confidencelevel\n",
    "# indicates that we are 90% confident that the true population proportion falls\n",
    "# within the calculated interval.\n",
    "\n",
    "import math\n",
    "\n",
    "n = 500\n",
    "x = 320\n",
    "p_hat = x / n\n",
    "z = 1.645  # z for 90% CI\n",
    "\n",
    "se = math.sqrt(p_hat * (1 - p_hat) / n)\n",
    "margin = z * se\n",
    "\n",
    "ci_lower = p_hat - margin\n",
    "ci_upper = p_hat + margin\n",
    "\n",
    "print(\"Sample proportion:\", p_hat)\n",
    "print(\"90% CI: ({:.6f}, {:.6f})\".format(ci_lower, ci_upper))\n",
    "print(\"As percentages: ({:.2f}%, {:.2f}%)\".format(ci_lower*100, ci_upper*100))\n"
   ]
  },
  {
   "cell_type": "code",
   "execution_count": 33,
   "id": "e87070ae",
   "metadata": {},
   "outputs": [
    {
     "name": "stdout",
     "output_type": "stream",
     "text": [
      "Probability of exactly 3 defects: 0.1804470443154836\n"
     ]
    }
   ],
   "source": [
    "# 15. A company sells smartphones, and the number of defects per batch follows a\n",
    "# Poisson distribution with a mean of 2 defects. What is the probability of havingexactly 3 defects in a randomly selected batch? Data: Mean number of defects (λ) =2, Number of defects (x) = 3\n",
    "# Explanation: The problem involves a discrete distribution (Poisson) becauseweare dealing with the count of defects in a batch of smartphones. The Poisson\n",
    "\n",
    "\n",
    "# given values\n",
    "lam = 2   # λ (mean)\n",
    "x = 3     # number of defects\n",
    "\n",
    "# apply Poisson formula\n",
    "probability = (math.exp(-lam) * (lam ** x)) / math.factorial(x)\n",
    "\n",
    "print(\"Probability of exactly 3 defects:\", probability)\n"
   ]
  },
  {
   "cell_type": "code",
   "execution_count": null,
   "id": "5eb7d786",
   "metadata": {},
   "outputs": [],
   "source": []
  }
 ],
 "metadata": {
  "kernelspec": {
   "display_name": "base",
   "language": "python",
   "name": "python3"
  },
  "language_info": {
   "codemirror_mode": {
    "name": "ipython",
    "version": 3
   },
   "file_extension": ".py",
   "mimetype": "text/x-python",
   "name": "python",
   "nbconvert_exporter": "python",
   "pygments_lexer": "ipython3",
   "version": "3.12.7"
  }
 },
 "nbformat": 4,
 "nbformat_minor": 5
}
